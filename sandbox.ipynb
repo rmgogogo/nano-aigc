{
 "cells": [
  {
   "cell_type": "code",
   "execution_count": 1,
   "id": "2ab632da",
   "metadata": {},
   "outputs": [],
   "source": [
    "import torch\n",
    "import torch.nn as nn"
   ]
  },
  {
   "cell_type": "code",
   "execution_count": 10,
   "id": "16a364c9",
   "metadata": {},
   "outputs": [],
   "source": [
    "in_chan=1\n",
    "out_chan=1\n",
    "hidden=8"
   ]
  },
  {
   "cell_type": "code",
   "execution_count": 21,
   "id": "9c7db8ef",
   "metadata": {},
   "outputs": [
    {
     "name": "stdout",
     "output_type": "stream",
     "text": [
      "torch.Size([128])\n"
     ]
    }
   ],
   "source": [
    "l1 = nn.Conv2d(in_chan, hidden, 4, 2, 1, bias=False)\n",
    "l1a = nn.LeakyReLU(0.2, inplace=True)\n",
    "\n",
    "l2 = nn.Conv2d(hidden, hidden * 2, 4, 2, 1, bias=False)\n",
    "l2a = nn.BatchNorm2d(hidden * 2)\n",
    "l2b = nn.BatchNorm2d(hidden * 2)\n",
    "\n",
    "l3 = nn.Conv2d(hidden * 2, hidden * 4, 4, 2, 1, bias=False)\n",
    "l3a = nn.BatchNorm2d(hidden * 4)\n",
    "l3b = nn.LeakyReLU(0.2, inplace=True)\n",
    "\n",
    "l4 = nn.Conv2d(hidden * 4, 1, 4, 2, 1, bias=False)\n",
    "l4a = nn.Sigmoid()\n",
    "\n",
    "x = torch.randn(128, 1, 28, 28)\n",
    "x = l1(x)\n",
    "x = l1a(x)\n",
    "x = l2(x)\n",
    "x = l2a(x)\n",
    "x = l2b(x)\n",
    "x = l3(x)\n",
    "x = l3a(x)\n",
    "x = l3b(x)\n",
    "x = l4(x)\n",
    "x = l4a(x)\n",
    "x = x.view(-1, 1).squeeze(1)\n",
    "print(x.shape)"
   ]
  },
  {
   "cell_type": "code",
   "execution_count": 25,
   "id": "e2217c05",
   "metadata": {},
   "outputs": [
    {
     "name": "stdout",
     "output_type": "stream",
     "text": [
      "torch.Size([128])\n"
     ]
    }
   ],
   "source": [
    "positive_labels = torch.full((128,), 1.0)\n",
    "print(positive_labels.shape)"
   ]
  },
  {
   "cell_type": "code",
   "execution_count": 26,
   "id": "e5c8f30f",
   "metadata": {},
   "outputs": [],
   "source": [
    "criterion = nn.BCELoss()"
   ]
  },
  {
   "cell_type": "code",
   "execution_count": 27,
   "id": "9c1b382c",
   "metadata": {},
   "outputs": [
    {
     "data": {
      "text/plain": [
       "tensor(0.8365, grad_fn=<BinaryCrossEntropyBackward0>)"
      ]
     },
     "execution_count": 27,
     "metadata": {},
     "output_type": "execute_result"
    }
   ],
   "source": [
    "criterion(x, positive_labels)"
   ]
  },
  {
   "cell_type": "code",
   "execution_count": 28,
   "id": "f6258e5c",
   "metadata": {},
   "outputs": [],
   "source": [
    "from gan import Generator"
   ]
  },
  {
   "cell_type": "code",
   "execution_count": 29,
   "id": "80abbbf8",
   "metadata": {},
   "outputs": [],
   "source": [
    "g = Generator(8, 16, 1)"
   ]
  },
  {
   "cell_type": "code",
   "execution_count": 33,
   "id": "28be9091",
   "metadata": {},
   "outputs": [
    {
     "name": "stdout",
     "output_type": "stream",
     "text": [
      "torch.Size([128, 1, 28, 28])\n"
     ]
    }
   ],
   "source": [
    "z = torch.randn(128, 8, 1, 1)\n",
    "x = g(z)\n",
    "print(x.shape)"
   ]
  },
  {
   "cell_type": "code",
   "execution_count": 39,
   "id": "5ddee27f",
   "metadata": {},
   "outputs": [
    {
     "name": "stdout",
     "output_type": "stream",
     "text": [
      "torch.Size([128, 1, 28, 28])\n"
     ]
    }
   ],
   "source": [
    "x = nn.ConvTranspose2d(8, 8 * 8, 4, 1, 0, bias=False)(z)\n",
    "x = nn.ConvTranspose2d(hidden * 8, hidden * 4, 4, 2, 1, bias=False)(x)\n",
    "x = nn.ConvTranspose2d(hidden * 4, hidden * 2, 4, 2, 1, bias=False)(x)\n",
    "x = nn.ConvTranspose2d(hidden * 2, hidden, 4, 2, 1, bias=False)(x)\n",
    "x = nn.ConvTranspose2d(hidden, out_chan, kernel_size=1, stride=1, padding=2, bias=False)(x)\n",
    "print(x.shape)"
   ]
  },
  {
   "cell_type": "code",
   "execution_count": null,
   "id": "b61e2cab",
   "metadata": {},
   "outputs": [],
   "source": []
  }
 ],
 "metadata": {
  "kernelspec": {
   "display_name": "Python 3 (ipykernel)",
   "language": "python",
   "name": "python3"
  },
  "language_info": {
   "codemirror_mode": {
    "name": "ipython",
    "version": 3
   },
   "file_extension": ".py",
   "mimetype": "text/x-python",
   "name": "python",
   "nbconvert_exporter": "python",
   "pygments_lexer": "ipython3",
   "version": "3.10.8"
  }
 },
 "nbformat": 4,
 "nbformat_minor": 5
}

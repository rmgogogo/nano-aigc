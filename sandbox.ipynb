{
 "cells": [
  {
   "cell_type": "code",
   "execution_count": 3,
   "id": "423ffefa",
   "metadata": {},
   "outputs": [],
   "source": [
    "a = 'hello {}'"
   ]
  },
  {
   "cell_type": "code",
   "execution_count": 4,
   "id": "bb79a96d",
   "metadata": {},
   "outputs": [
    {
     "data": {
      "text/plain": [
       "'hello x'"
      ]
     },
     "execution_count": 4,
     "metadata": {},
     "output_type": "execute_result"
    }
   ],
   "source": [
    "a.format('x')"
   ]
  },
  {
   "cell_type": "code",
   "execution_count": 16,
   "id": "dcc35216",
   "metadata": {},
   "outputs": [],
   "source": [
    "import numpy as np\n",
    "\n",
    "def get_random_texts(num_samples):\n",
    "    templates = [\n",
    "        '{}',\n",
    "        'bold {}',\n",
    "        'thin {}',\n",
    "        '{} but not perfect',\n",
    "        'small {}',\n",
    "        'fat {}'\n",
    "    ]\n",
    "    number_texts = [\n",
    "        'zero',\n",
    "        'one',\n",
    "        'two',\n",
    "        'three',\n",
    "        'four',\n",
    "        'five',\n",
    "        'six',\n",
    "        'seven',\n",
    "        'eight',\n",
    "        'nine'\n",
    "    ]\n",
    "    numbers = np.random.randint(low=0, high=10, size=(num_samples,))\n",
    "    template_idxs = np.random.randint(low=0, high=len(templates), size=(num_samples,))\n",
    "    texts = []\n",
    "    for i, template_idx in enumerate(template_idxs):\n",
    "        template = templates[template_idx]\n",
    "        number_text = number_texts[numbers[i]]\n",
    "        texts.append(template.format(number_text))\n",
    "    return texts"
   ]
  },
  {
   "cell_type": "code",
   "execution_count": 18,
   "id": "54171d7d",
   "metadata": {},
   "outputs": [],
   "source": [
    "def get_random_texts(num_samples):\n",
    "    number_texts = [\n",
    "        'zero',\n",
    "        'one',\n",
    "        'two',\n",
    "        'three',\n",
    "        'four',\n",
    "        'five',\n",
    "        'six',\n",
    "        'seven',\n",
    "        'eight',\n",
    "        'nine'\n",
    "    ]\n",
    "    numbers = np.random.randint(low=0, high=10, size=(num_samples,))\n",
    "    texts = []\n",
    "    for i in numbers:\n",
    "        number_text = number_texts[i]\n",
    "        texts.append(number_text)\n",
    "    return texts"
   ]
  },
  {
   "cell_type": "code",
   "execution_count": 19,
   "id": "0bfaa5f4",
   "metadata": {},
   "outputs": [
    {
     "data": {
      "text/plain": [
       "['three',\n",
       " 'one',\n",
       " 'four',\n",
       " 'six',\n",
       " 'five',\n",
       " 'zero',\n",
       " 'four',\n",
       " 'eight',\n",
       " 'zero',\n",
       " 'seven',\n",
       " 'seven',\n",
       " 'zero',\n",
       " 'two',\n",
       " 'four',\n",
       " 'seven',\n",
       " 'one']"
      ]
     },
     "execution_count": 19,
     "metadata": {},
     "output_type": "execute_result"
    }
   ],
   "source": [
    "get_random_texts(16)"
   ]
  },
  {
   "cell_type": "code",
   "execution_count": null,
   "id": "5b3cc676",
   "metadata": {},
   "outputs": [],
   "source": []
  }
 ],
 "metadata": {
  "kernelspec": {
   "display_name": "Python 3 (ipykernel)",
   "language": "python",
   "name": "python3"
  },
  "language_info": {
   "codemirror_mode": {
    "name": "ipython",
    "version": 3
   },
   "file_extension": ".py",
   "mimetype": "text/x-python",
   "name": "python",
   "nbconvert_exporter": "python",
   "pygments_lexer": "ipython3",
   "version": "3.10.8"
  }
 },
 "nbformat": 4,
 "nbformat_minor": 5
}

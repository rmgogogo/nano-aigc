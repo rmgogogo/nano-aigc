{
 "cells": [
  {
   "cell_type": "code",
   "execution_count": 1,
   "id": "2ab632da",
   "metadata": {},
   "outputs": [],
   "source": [
    "import torch\n",
    "import torch.nn as nn"
   ]
  },
  {
   "cell_type": "code",
   "execution_count": 84,
   "id": "16a364c9",
   "metadata": {},
   "outputs": [
    {
     "name": "stdout",
     "output_type": "stream",
     "text": [
      "torch.Size([128, 8])\n"
     ]
    }
   ],
   "source": [
    "e1 = nn.Conv1d(1, 2, 3, 2, 1)\n",
    "e1b = nn.Conv1d(2, 2, 3, 1, 1)\n",
    "e2 = nn.Conv1d(2, 4, 3, 2, 1)\n",
    "e2b = nn.Conv1d(4, 4, 3, 1, 1)\n",
    "e3 = nn.Conv1d(4, 8, 3, 2, 1)\n",
    "e3b = nn.Conv1d(8, 8, 3, 1, 1)\n",
    "\n",
    "d1 = nn.ConvTranspose1d(8, 4, 2, 2)\n",
    "d1b = nn.ConvTranspose1d(4, 4, 3, 1, 1)\n",
    "d2 = nn.ConvTranspose1d(8, 4, 2, 2)\n",
    "d2b = nn.ConvTranspose1d(4, 2, 3, 1, 1)\n",
    "d2c = nn.ConvTranspose1d(2, 2, 3, 1, 1)\n",
    "d3 = nn.ConvTranspose1d(4, 2, 2, 2)\n",
    "d3b = nn.ConvTranspose1d(2, 1, 3, 1, 1)\n",
    "d3c = nn.ConvTranspose1d(1, 1, 3, 1, 1)\n",
    "\n",
    "x = torch.randn(128, 8)\n",
    "x = x.unsqueeze(1)\n",
    "\n",
    "# [1, 8]\n",
    "x = e1(x) # [2, 4]\n",
    "x = torch.relu(x)\n",
    "x = e1b(x) # [2, 4]\n",
    "x1 = x = torch.relu(x)\n",
    "x = e2(x) # [4, 2]\n",
    "x = torch.relu(x)\n",
    "x = e2b(x) # [4, 2]\n",
    "x2 = x = torch.relu(x)\n",
    "x = e3(x) # [8, 1]\n",
    "x = torch.relu(x)\n",
    "x = e3b(x) # [8, 1]\n",
    "x3 = x = torch.relu(x)\n",
    "\n",
    "# [8, 1]\n",
    "x = d1(x)  # [4, 2]\n",
    "x = torch.relu(x)\n",
    "x = d1b(x) # [4, 2]\n",
    "x = torch.relu(x)\n",
    "\n",
    "x = torch.cat((x, x2), dim=1) # [8, 2]\n",
    "x = d2(x) # [4, 4]\n",
    "x = torch.relu(x)\n",
    "x = d2b(x) # [2, 4]\n",
    "x = torch.relu(x)\n",
    "x = d2c(x) # [2, 4]\n",
    "x = torch.relu(x)\n",
    "\n",
    "x = torch.cat((x, x1), dim=1) # [4, 4]\n",
    "x = d3(x) # [2, 8]\n",
    "x = torch.relu(x)\n",
    "x = d3b(x) # [1, 8]\n",
    "x = torch.relu(x)\n",
    "x = d3c(x) # [1, 8]\n",
    "x = x.squeeze(1)\n",
    "print(x.shape)"
   ]
  },
  {
   "cell_type": "code",
   "execution_count": null,
   "id": "b61e2cab",
   "metadata": {},
   "outputs": [],
   "source": []
  }
 ],
 "metadata": {
  "kernelspec": {
   "display_name": "Python 3 (ipykernel)",
   "language": "python",
   "name": "python3"
  },
  "language_info": {
   "codemirror_mode": {
    "name": "ipython",
    "version": 3
   },
   "file_extension": ".py",
   "mimetype": "text/x-python",
   "name": "python",
   "nbconvert_exporter": "python",
   "pygments_lexer": "ipython3",
   "version": "3.10.8"
  }
 },
 "nbformat": 4,
 "nbformat_minor": 5
}

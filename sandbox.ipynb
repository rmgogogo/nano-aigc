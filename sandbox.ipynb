{
 "cells": [
  {
   "cell_type": "code",
   "execution_count": 66,
   "id": "7e284f8e",
   "metadata": {},
   "outputs": [],
   "source": [
    "from vae import VAE\n",
    "from vae import get_device\n",
    "\n",
    "import torch\n",
    "import torchvision\n",
    "import numpy as np"
   ]
  },
  {
   "cell_type": "code",
   "execution_count": 7,
   "id": "13275262",
   "metadata": {},
   "outputs": [
    {
     "data": {
      "text/plain": [
       "<All keys matched successfully>"
      ]
     },
     "execution_count": 7,
     "metadata": {},
     "output_type": "execute_result"
    }
   ],
   "source": [
    "device = get_device()\n",
    "net = VAE(latent=2).to(device)\n",
    "net.load_state_dict(torch.load('vae.pth'))"
   ]
  },
  {
   "cell_type": "code",
   "execution_count": 10,
   "id": "ecb2afb9",
   "metadata": {},
   "outputs": [],
   "source": [
    "tf = torchvision.transforms.Compose([torchvision.transforms.ToTensor()])\n",
    "dataset = torchvision.datasets.MNIST(\n",
    "    \"./data\",\n",
    "    train=True,\n",
    "    download=True,\n",
    "    transform=tf,\n",
    ")\n",
    "dataloader = torch.utils.data.DataLoader(dataset, batch_size=128, shuffle=True, num_workers=8)"
   ]
  },
  {
   "cell_type": "code",
   "execution_count": 81,
   "id": "733f0553",
   "metadata": {},
   "outputs": [],
   "source": [
    "for images, labels in dataloader:\n",
    "    break\n",
    "images = images.to(device)\n",
    "labels = labels.to(device)"
   ]
  },
  {
   "cell_type": "code",
   "execution_count": 82,
   "id": "e85f0de3",
   "metadata": {},
   "outputs": [],
   "source": [
    "net.eval()\n",
    "with torch.no_grad():\n",
    "    mean, logvar = net.encoder(images)\n",
    "    z = net.sampling(mean, logvar)"
   ]
  },
  {
   "cell_type": "code",
   "execution_count": 84,
   "id": "0ac79724",
   "metadata": {},
   "outputs": [
    {
     "name": "stdout",
     "output_type": "stream",
     "text": [
      "torch.Size([128, 2]) torch.Size([128, 2]) torch.Size([128, 2]) torch.Size([128])\n"
     ]
    }
   ],
   "source": [
    "print(mean.shape, logvar.shape, z.shape, labels.shape)"
   ]
  },
  {
   "cell_type": "code",
   "execution_count": 85,
   "id": "6da3ac31",
   "metadata": {},
   "outputs": [
    {
     "data": {
      "text/plain": [
       "<matplotlib.collections.PathCollection at 0x28e45a050>"
      ]
     },
     "execution_count": 85,
     "metadata": {},
     "output_type": "execute_result"
    },
    {
     "data": {
      "image/png": "[encoded data removed]",
      "text/plain": [
       "<Figure size 640x480 with 1 Axes>"
      ]
     },
     "metadata": {},
     "output_type": "display_data"
    }
   ],
   "source": [
    "from matplotlib import pyplot as plt\n",
    "\n",
    "zcpu = z.cpu()\n",
    "plt.scatter(zcpu[:,0], zcpu[:,1])"
   ]
  },
  {
   "cell_type": "code",
   "execution_count": 102,
   "id": "f491adaa",
   "metadata": {},
   "outputs": [],
   "source": [
    "text_encoder = torch.nn.Embedding(10, 2).to(device)"
   ]
  },
  {
   "cell_type": "code",
   "execution_count": 103,
   "id": "4e2ba6d5",
   "metadata": {},
   "outputs": [],
   "source": [
    "logit_scale = torch.nn.Parameter(torch.ones([]))"
   ]
  },
  {
   "cell_type": "code",
   "execution_count": 104,
   "id": "d13b1a37",
   "metadata": {},
   "outputs": [],
   "source": [
    "text_code = text_encoder(labels)\n",
    "img_code = z"
   ]
  },
  {
   "cell_type": "code",
   "execution_count": 105,
   "id": "1a61d15a",
   "metadata": {},
   "outputs": [
    {
     "name": "stdout",
     "output_type": "stream",
     "text": [
      "torch.Size([128, 2]) torch.Size([128, 2])\n"
     ]
    }
   ],
   "source": [
    "print(img_code.shape, text_code.shape)"
   ]
  },
  {
   "cell_type": "code",
   "execution_count": 90,
   "id": "4c575206",
   "metadata": {},
   "outputs": [],
   "source": [
    "m = logit_scale * img_code @ text_code.t()"
   ]
  },
  {
   "cell_type": "code",
   "execution_count": 91,
   "id": "22ccd390",
   "metadata": {},
   "outputs": [
    {
     "name": "stdout",
     "output_type": "stream",
     "text": [
      "torch.Size([128, 128])\n"
     ]
    }
   ],
   "source": [
    "print(m.shape)"
   ]
  },
  {
   "cell_type": "code",
   "execution_count": 94,
   "id": "4052545f",
   "metadata": {},
   "outputs": [],
   "source": [
    "target = torch.arange(128).to(device)"
   ]
  },
  {
   "cell_type": "code",
   "execution_count": 98,
   "id": "82fcf551",
   "metadata": {},
   "outputs": [],
   "source": [
    "loss1 = torch.nn.CrossEntropyLoss()(m, target)\n",
    "loss2 = torch.nn.CrossEntropyLoss()(m.t(), target)"
   ]
  },
  {
   "cell_type": "code",
   "execution_count": 100,
   "id": "d5fc8d80",
   "metadata": {},
   "outputs": [],
   "source": [
    "loss = loss1 + loss2"
   ]
  },
  {
   "cell_type": "code",
   "execution_count": 101,
   "id": "d987de13",
   "metadata": {},
   "outputs": [
    {
     "data": {
      "text/plain": [
       "tensor(13.9465, device='mps:0', grad_fn=<AddBackward0>)"
      ]
     },
     "execution_count": 101,
     "metadata": {},
     "output_type": "execute_result"
    }
   ],
   "source": [
    "loss"
   ]
  },
  {
   "cell_type": "code",
   "execution_count": 106,
   "id": "852ae444",
   "metadata": {},
   "outputs": [
    {
     "data": {
      "text/plain": [
       "8"
      ]
     },
     "execution_count": 106,
     "metadata": {},
     "output_type": "execute_result"
    }
   ],
   "source": [
    "import multiprocessing\n",
    "multiprocessing.cpu_count()"
   ]
  },
  {
   "cell_type": "code",
   "execution_count": 107,
   "id": "cf0176a8",
   "metadata": {},
   "outputs": [
    {
     "data": {
      "text/plain": [
       "2.659260036932778"
      ]
     },
     "execution_count": 107,
     "metadata": {},
     "output_type": "execute_result"
    }
   ],
   "source": [
    "np.log(1 / 0.07)"
   ]
  },
  {
   "cell_type": "code",
   "execution_count": null,
   "id": "cea660da",
   "metadata": {},
   "outputs": [],
   "source": []
  }
 ],
 "metadata": {
  "kernelspec": {
   "display_name": "Python 3 (ipykernel)",
   "language": "python",
   "name": "python3"
  },
  "language_info": {
   "codemirror_mode": {
    "name": "ipython",
    "version": 3
   },
   "file_extension": ".py",
   "mimetype": "text/x-python",
   "name": "python",
   "nbconvert_exporter": "python",
   "pygments_lexer": "ipython3",
   "version": "3.10.8"
  }
 },
 "nbformat": 4,
 "nbformat_minor": 5
}

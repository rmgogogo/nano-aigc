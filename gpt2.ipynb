{
 "cells": [
  {
   "cell_type": "code",
   "execution_count": 13,
   "id": "6d9d544a",
   "metadata": {},
   "outputs": [],
   "source": [
    "import torch\n",
    "import toy\n",
    "\n",
    "max_seq = 5\n",
    "n_epochs = 2\n",
    "batch_size = 100\n",
    "\n",
    "dataset = toy.ToyDataset(transform=toy.TokenizerTransform(max_seq=max_seq+1), n_epochs=n_epochs)\n",
    "dataloader = torch.utils.data.DataLoader(dataset, batch_size=batch_size, num_workers=4)\n",
    "tokenizer = toy.ToyTokenizer()"
   ]
  },
  {
   "cell_type": "code",
   "execution_count": 15,
   "id": "7054a2e0",
   "metadata": {},
   "outputs": [],
   "source": [
    "# for data in dataloader:\n",
    "#     print(data.shape)\n",
    "# data = data.numpy()\n",
    "# for item in data:\n",
    "#     print(tokenizer.detokenize(item))"
   ]
  },
  {
   "cell_type": "code",
   "execution_count": 8,
   "id": "e0c322bb",
   "metadata": {},
   "outputs": [],
   "source": [
    "# for i in range(200):\n",
    "#     tokens = dataset[i]\n",
    "#     print(tokenizer.detokenize(tokens))"
   ]
  },
  {
   "cell_type": "code",
   "execution_count": null,
   "id": "e3665259",
   "metadata": {},
   "outputs": [],
   "source": []
  }
 ],
 "metadata": {
  "kernelspec": {
   "display_name": "Python 3 (ipykernel)",
   "language": "python",
   "name": "python3"
  },
  "language_info": {
   "codemirror_mode": {
    "name": "ipython",
    "version": 3
   },
   "file_extension": ".py",
   "mimetype": "text/x-python",
   "name": "python",
   "nbconvert_exporter": "python",
   "pygments_lexer": "ipython3",
   "version": "3.9.16"
  }
 },
 "nbformat": 4,
 "nbformat_minor": 5
}
